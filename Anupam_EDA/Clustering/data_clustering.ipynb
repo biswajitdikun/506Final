{
  "cells": [
    {
      "cell_type": "code",
      "execution_count": 1,
      "metadata": {
        "colab": {
          "base_uri": "https://localhost:8080/"
        },
        "id": "q4Sq-Zzw3g0h",
        "outputId": "2152e3ac-c8ce-4fc1-9af3-6e4c6b8d68e5"
      },
      "outputs": [
        {
          "output_type": "stream",
          "name": "stdout",
          "text": [
            "Collecting contextily\n",
            "  Downloading contextily-1.6.2-py3-none-any.whl.metadata (2.9 kB)\n",
            "Requirement already satisfied: geopy in /usr/local/lib/python3.11/dist-packages (from contextily) (2.4.1)\n",
            "Requirement already satisfied: matplotlib in /usr/local/lib/python3.11/dist-packages (from contextily) (3.10.0)\n",
            "Collecting mercantile (from contextily)\n",
            "  Downloading mercantile-1.2.1-py3-none-any.whl.metadata (4.8 kB)\n",
            "Requirement already satisfied: pillow in /usr/local/lib/python3.11/dist-packages (from contextily) (11.2.1)\n",
            "Collecting rasterio (from contextily)\n",
            "  Downloading rasterio-1.4.3-cp311-cp311-manylinux_2_17_x86_64.manylinux2014_x86_64.whl.metadata (9.1 kB)\n",
            "Requirement already satisfied: requests in /usr/local/lib/python3.11/dist-packages (from contextily) (2.32.3)\n",
            "Requirement already satisfied: joblib in /usr/local/lib/python3.11/dist-packages (from contextily) (1.4.2)\n",
            "Requirement already satisfied: xyzservices in /usr/local/lib/python3.11/dist-packages (from contextily) (2025.1.0)\n",
            "Requirement already satisfied: geographiclib<3,>=1.52 in /usr/local/lib/python3.11/dist-packages (from geopy->contextily) (2.0)\n",
            "Requirement already satisfied: contourpy>=1.0.1 in /usr/local/lib/python3.11/dist-packages (from matplotlib->contextily) (1.3.2)\n",
            "Requirement already satisfied: cycler>=0.10 in /usr/local/lib/python3.11/dist-packages (from matplotlib->contextily) (0.12.1)\n",
            "Requirement already satisfied: fonttools>=4.22.0 in /usr/local/lib/python3.11/dist-packages (from matplotlib->contextily) (4.57.0)\n",
            "Requirement already satisfied: kiwisolver>=1.3.1 in /usr/local/lib/python3.11/dist-packages (from matplotlib->contextily) (1.4.8)\n",
            "Requirement already satisfied: numpy>=1.23 in /usr/local/lib/python3.11/dist-packages (from matplotlib->contextily) (2.0.2)\n",
            "Requirement already satisfied: packaging>=20.0 in /usr/local/lib/python3.11/dist-packages (from matplotlib->contextily) (24.2)\n",
            "Requirement already satisfied: pyparsing>=2.3.1 in /usr/local/lib/python3.11/dist-packages (from matplotlib->contextily) (3.2.3)\n",
            "Requirement already satisfied: python-dateutil>=2.7 in /usr/local/lib/python3.11/dist-packages (from matplotlib->contextily) (2.9.0.post0)\n",
            "Requirement already satisfied: click>=3.0 in /usr/local/lib/python3.11/dist-packages (from mercantile->contextily) (8.1.8)\n",
            "Collecting affine (from rasterio->contextily)\n",
            "  Downloading affine-2.4.0-py3-none-any.whl.metadata (4.0 kB)\n",
            "Requirement already satisfied: attrs in /usr/local/lib/python3.11/dist-packages (from rasterio->contextily) (25.3.0)\n",
            "Requirement already satisfied: certifi in /usr/local/lib/python3.11/dist-packages (from rasterio->contextily) (2025.1.31)\n",
            "Collecting cligj>=0.5 (from rasterio->contextily)\n",
            "  Downloading cligj-0.7.2-py3-none-any.whl.metadata (5.0 kB)\n",
            "Collecting click-plugins (from rasterio->contextily)\n",
            "  Downloading click_plugins-1.1.1-py2.py3-none-any.whl.metadata (6.4 kB)\n",
            "Requirement already satisfied: charset-normalizer<4,>=2 in /usr/local/lib/python3.11/dist-packages (from requests->contextily) (3.4.1)\n",
            "Requirement already satisfied: idna<4,>=2.5 in /usr/local/lib/python3.11/dist-packages (from requests->contextily) (3.10)\n",
            "Requirement already satisfied: urllib3<3,>=1.21.1 in /usr/local/lib/python3.11/dist-packages (from requests->contextily) (2.4.0)\n",
            "Requirement already satisfied: six>=1.5 in /usr/local/lib/python3.11/dist-packages (from python-dateutil>=2.7->matplotlib->contextily) (1.17.0)\n",
            "Downloading contextily-1.6.2-py3-none-any.whl (17 kB)\n",
            "Downloading mercantile-1.2.1-py3-none-any.whl (14 kB)\n",
            "Downloading rasterio-1.4.3-cp311-cp311-manylinux_2_17_x86_64.manylinux2014_x86_64.whl (22.2 MB)\n",
            "\u001b[2K   \u001b[90m━━━━━━━━━━━━━━━━━━━━━━━━━━━━━━━━━━━━━━━━\u001b[0m \u001b[32m22.2/22.2 MB\u001b[0m \u001b[31m74.9 MB/s\u001b[0m eta \u001b[36m0:00:00\u001b[0m\n",
            "\u001b[?25hDownloading cligj-0.7.2-py3-none-any.whl (7.1 kB)\n",
            "Downloading affine-2.4.0-py3-none-any.whl (15 kB)\n",
            "Downloading click_plugins-1.1.1-py2.py3-none-any.whl (7.5 kB)\n",
            "Installing collected packages: mercantile, cligj, click-plugins, affine, rasterio, contextily\n",
            "Successfully installed affine-2.4.0 click-plugins-1.1.1 cligj-0.7.2 contextily-1.6.2 mercantile-1.2.1 rasterio-1.4.3\n",
            "Requirement already satisfied: geopandas in /usr/local/lib/python3.11/dist-packages (1.0.1)\n",
            "Requirement already satisfied: numpy>=1.22 in /usr/local/lib/python3.11/dist-packages (from geopandas) (2.0.2)\n",
            "Requirement already satisfied: pyogrio>=0.7.2 in /usr/local/lib/python3.11/dist-packages (from geopandas) (0.10.0)\n",
            "Requirement already satisfied: packaging in /usr/local/lib/python3.11/dist-packages (from geopandas) (24.2)\n",
            "Requirement already satisfied: pandas>=1.4.0 in /usr/local/lib/python3.11/dist-packages (from geopandas) (2.2.2)\n",
            "Requirement already satisfied: pyproj>=3.3.0 in /usr/local/lib/python3.11/dist-packages (from geopandas) (3.7.1)\n",
            "Requirement already satisfied: shapely>=2.0.0 in /usr/local/lib/python3.11/dist-packages (from geopandas) (2.1.0)\n",
            "Requirement already satisfied: python-dateutil>=2.8.2 in /usr/local/lib/python3.11/dist-packages (from pandas>=1.4.0->geopandas) (2.9.0.post0)\n",
            "Requirement already satisfied: pytz>=2020.1 in /usr/local/lib/python3.11/dist-packages (from pandas>=1.4.0->geopandas) (2025.2)\n",
            "Requirement already satisfied: tzdata>=2022.7 in /usr/local/lib/python3.11/dist-packages (from pandas>=1.4.0->geopandas) (2025.2)\n",
            "Requirement already satisfied: certifi in /usr/local/lib/python3.11/dist-packages (from pyogrio>=0.7.2->geopandas) (2025.1.31)\n",
            "Requirement already satisfied: six>=1.5 in /usr/local/lib/python3.11/dist-packages (from python-dateutil>=2.8.2->pandas>=1.4.0->geopandas) (1.17.0)\n",
            "Requirement already satisfied: shapely in /usr/local/lib/python3.11/dist-packages (2.1.0)\n",
            "Requirement already satisfied: numpy>=1.21 in /usr/local/lib/python3.11/dist-packages (from shapely) (2.0.2)\n"
          ]
        }
      ],
      "source": [
        "!pip install contextily\n",
        "!pip install geopandas\n",
        "!pip install shapely"
      ]
    },
    {
      "cell_type": "code",
      "execution_count": 2,
      "metadata": {
        "id": "fXWzizup3SEi"
      },
      "outputs": [],
      "source": [
        "import pandas as pd\n",
        "import numpy as np\n",
        "import matplotlib.pyplot as plt\n",
        "import seaborn as sns\n",
        "import geopandas as gpd\n",
        "from shapely.geometry import Point\n",
        "import contextily as ctx\n",
        "from sklearn.cluster import KMeans\n",
        "from sklearn.preprocessing import StandardScaler\n",
        "import os\n",
        "from datetime import datetime"
      ]
    },
    {
      "cell_type": "code",
      "execution_count": 3,
      "metadata": {
        "id": "RLM6aoaq3ctf"
      },
      "outputs": [],
      "source": [
        "file_paths = {\n",
        "    2020: '311_2020.csv',\n",
        "    2021: '311_2021.csv',\n",
        "    2022: '311_2022.csv',\n",
        "    2023: '311_2023.csv',\n",
        "    2024: '311_2024.csv'\n",
        "}"
      ]
    },
    {
      "cell_type": "code",
      "execution_count": 4,
      "metadata": {
        "colab": {
          "base_uri": "https://localhost:8080/"
        },
        "id": "F-WLRG7jw017",
        "outputId": "14b217b7-6b0a-49ea-e69c-318c09d6edf9"
      },
      "outputs": [
        {
          "output_type": "stream",
          "name": "stdout",
          "text": [
            "\n",
            "Loading data for 2020...\n"
          ]
        },
        {
          "output_type": "stream",
          "name": "stderr",
          "text": [
            "<ipython-input-4-c5a786eb810b>:6: DtypeWarning: Columns (13) have mixed types. Specify dtype option on import or set low_memory=False.\n",
            "  data = pd.read_csv(file_path)\n"
          ]
        },
        {
          "output_type": "stream",
          "name": "stdout",
          "text": [
            "Successfully loaded 311_2020.csv with 251222 records\n",
            "Found 249132 records with valid coordinates\n",
            "\n",
            "Loading data for 2021...\n"
          ]
        },
        {
          "output_type": "stream",
          "name": "stderr",
          "text": [
            "<ipython-input-4-c5a786eb810b>:14: SettingWithCopyWarning: \n",
            "A value is trying to be set on a copy of a slice from a DataFrame.\n",
            "Try using .loc[row_indexer,col_indexer] = value instead\n",
            "\n",
            "See the caveats in the documentation: https://pandas.pydata.org/pandas-docs/stable/user_guide/indexing.html#returning-a-view-versus-a-copy\n",
            "  valid_data['Year'] = year\n",
            "<ipython-input-4-c5a786eb810b>:6: DtypeWarning: Columns (13) have mixed types. Specify dtype option on import or set low_memory=False.\n",
            "  data = pd.read_csv(file_path)\n"
          ]
        },
        {
          "output_type": "stream",
          "name": "stdout",
          "text": [
            "Successfully loaded 311_2021.csv with 273784 records\n",
            "Found 271846 records with valid coordinates\n"
          ]
        },
        {
          "output_type": "stream",
          "name": "stderr",
          "text": [
            "<ipython-input-4-c5a786eb810b>:14: SettingWithCopyWarning: \n",
            "A value is trying to be set on a copy of a slice from a DataFrame.\n",
            "Try using .loc[row_indexer,col_indexer] = value instead\n",
            "\n",
            "See the caveats in the documentation: https://pandas.pydata.org/pandas-docs/stable/user_guide/indexing.html#returning-a-view-versus-a-copy\n",
            "  valid_data['Year'] = year\n"
          ]
        },
        {
          "output_type": "stream",
          "name": "stdout",
          "text": [
            "\n",
            "Loading data for 2022...\n"
          ]
        },
        {
          "output_type": "stream",
          "name": "stderr",
          "text": [
            "<ipython-input-4-c5a786eb810b>:6: DtypeWarning: Columns (13) have mixed types. Specify dtype option on import or set low_memory=False.\n",
            "  data = pd.read_csv(file_path)\n"
          ]
        },
        {
          "output_type": "stream",
          "name": "stdout",
          "text": [
            "Successfully loaded 311_2022.csv with 276599 records\n",
            "Found 274944 records with valid coordinates\n"
          ]
        },
        {
          "output_type": "stream",
          "name": "stderr",
          "text": [
            "<ipython-input-4-c5a786eb810b>:14: SettingWithCopyWarning: \n",
            "A value is trying to be set on a copy of a slice from a DataFrame.\n",
            "Try using .loc[row_indexer,col_indexer] = value instead\n",
            "\n",
            "See the caveats in the documentation: https://pandas.pydata.org/pandas-docs/stable/user_guide/indexing.html#returning-a-view-versus-a-copy\n",
            "  valid_data['Year'] = year\n"
          ]
        },
        {
          "output_type": "stream",
          "name": "stdout",
          "text": [
            "\n",
            "Loading data for 2023...\n"
          ]
        },
        {
          "output_type": "stream",
          "name": "stderr",
          "text": [
            "<ipython-input-4-c5a786eb810b>:6: DtypeWarning: Columns (13) have mixed types. Specify dtype option on import or set low_memory=False.\n",
            "  data = pd.read_csv(file_path)\n"
          ]
        },
        {
          "output_type": "stream",
          "name": "stdout",
          "text": [
            "Successfully loaded 311_2023.csv with 266438 records\n",
            "Found 264309 records with valid coordinates\n"
          ]
        },
        {
          "output_type": "stream",
          "name": "stderr",
          "text": [
            "<ipython-input-4-c5a786eb810b>:14: SettingWithCopyWarning: \n",
            "A value is trying to be set on a copy of a slice from a DataFrame.\n",
            "Try using .loc[row_indexer,col_indexer] = value instead\n",
            "\n",
            "See the caveats in the documentation: https://pandas.pydata.org/pandas-docs/stable/user_guide/indexing.html#returning-a-view-versus-a-copy\n",
            "  valid_data['Year'] = year\n"
          ]
        },
        {
          "output_type": "stream",
          "name": "stdout",
          "text": [
            "\n",
            "Loading data for 2024...\n",
            "Successfully loaded 311_2024.csv with 282836 records\n",
            "Found 280678 records with valid coordinates\n"
          ]
        },
        {
          "output_type": "stream",
          "name": "stderr",
          "text": [
            "<ipython-input-4-c5a786eb810b>:14: SettingWithCopyWarning: \n",
            "A value is trying to be set on a copy of a slice from a DataFrame.\n",
            "Try using .loc[row_indexer,col_indexer] = value instead\n",
            "\n",
            "See the caveats in the documentation: https://pandas.pydata.org/pandas-docs/stable/user_guide/indexing.html#returning-a-view-versus-a-copy\n",
            "  valid_data['Year'] = year\n"
          ]
        },
        {
          "output_type": "stream",
          "name": "stdout",
          "text": [
            "\n",
            "Total records with coordinates: 1340909\n"
          ]
        }
      ],
      "source": [
        "all_data = pd.DataFrame()\n",
        "\n",
        "for year, file_path in file_paths.items():\n",
        "    print(f\"\\nLoading data for {year}...\")\n",
        "    try:\n",
        "        data = pd.read_csv(file_path)\n",
        "        print(f\"Successfully loaded {file_path} with {len(data)} records\")\n",
        "\n",
        "        # Filter for records with valid coordinates\n",
        "        valid_data = data.dropna(subset=['latitude', 'longitude'])\n",
        "        print(f\"Found {len(valid_data)} records with valid coordinates\")\n",
        "\n",
        "        # Add year column\n",
        "        valid_data['Year'] = year\n",
        "\n",
        "        # Append to combined dataframe\n",
        "        all_data = pd.concat([all_data, valid_data], ignore_index=True)\n",
        "\n",
        "    except Exception as e:\n",
        "        print(f\"Error processing file for {year}: {e}\")\n",
        "\n",
        "print(f\"\\nTotal records with coordinates: {len(all_data)}\")"
      ]
    },
    {
      "cell_type": "code",
      "execution_count": 5,
      "metadata": {
        "colab": {
          "base_uri": "https://localhost:8080/"
        },
        "id": "doZCI1CB0JHo",
        "outputId": "77ee82e8-ffe2-4d5e-a55f-ce46ee0e97de"
      },
      "outputs": [
        {
          "output_type": "stream",
          "name": "stdout",
          "text": [
            "\n",
            "Using 5 clusters based on the elbow method\n",
            "\n",
            "Cluster information:\n",
            "   center_latitude  center_longitude  cluster   count\n",
            "0        42.342365        -71.131002        0  177922\n",
            "1       -71.112562         42.308522        1       4\n",
            "2        42.306206        -71.074398        2  358059\n",
            "3        42.353612        -71.058229        3  623024\n",
            "4        42.276176        -71.129141        4  181900\n",
            "\n",
            "Analyzing cluster characteristics...\n",
            "\n",
            "Cluster characteristics:\n",
            "  cluster   latitude            longitude            Year                     \\\n",
            "                mean       std       mean       std   min   max         mean   \n",
            "0       0  42.342468  0.013239 -71.131190  0.021960  2020  2024  2022.128213   \n",
            "1       1 -71.112562  0.042495  42.308522  0.045800  2020  2020  2020.000000   \n",
            "2       2  42.305610  0.016075 -71.074559  0.015258  2020  2024  2021.969983   \n",
            "3       3  42.353398  0.016248 -71.058430  0.018955  2020  2024  2022.084851   \n",
            "4       4  42.276138  0.016749 -71.129477  0.019518  2020  2024  2021.948516   \n",
            "\n",
            "                   subject                  case_title  \n",
            "                  <lambda>                    <lambda>  \n",
            "0  Public Works Department         Parking Enforcement  \n",
            "1  Public Works Department  Request for Recycling Cart  \n",
            "2  Public Works Department         Parking Enforcement  \n",
            "3  Public Works Department         Parking Enforcement  \n",
            "4  Public Works Department         Parking Enforcement  \n",
            "\n",
            "Clustering analysis complete. Output files saved.\n"
          ]
        }
      ],
      "source": [
        "# Check if we have data to process\n",
        "if len(all_data) == 0:\n",
        "    print(\"No data with valid coordinates found. Exiting.\")\n",
        "    exit()\n",
        "\n",
        "# Extract coordinates for clustering\n",
        "coordinates = all_data[['latitude', 'longitude']].values\n",
        "\n",
        "# Standardize the coordinates\n",
        "scaler = StandardScaler()\n",
        "scaled_coordinates = scaler.fit_transform(coordinates)\n",
        "\n",
        "# Determine optimal number of clusters using the Elbow Method\n",
        "inertia = []\n",
        "k_range = range(1, 11)\n",
        "for k in k_range:\n",
        "    kmeans = KMeans(n_clusters=k, random_state=42, n_init=10)\n",
        "    kmeans.fit(scaled_coordinates)\n",
        "    inertia.append(kmeans.inertia_)\n",
        "\n",
        "# Plot the Elbow Method results\n",
        "plt.figure(figsize=(10, 6))\n",
        "plt.plot(k_range, inertia, 'bo-')\n",
        "plt.xlabel('Number of Clusters (k)')\n",
        "plt.ylabel('Inertia')\n",
        "plt.title('Elbow Method for Optimal k')\n",
        "plt.grid(True)\n",
        "plt.savefig('elbow_method.png')\n",
        "plt.close()\n",
        "\n",
        "# Choose optimal k (you can adjust this based on the elbow plot)\n",
        "optimal_k = 5  # This should be adjusted after viewing the elbow plot\n",
        "print(f\"\\nUsing {optimal_k} clusters based on the elbow method\")\n",
        "\n",
        "# Perform K-means clustering\n",
        "kmeans = KMeans(n_clusters=optimal_k, random_state=42, n_init=10)\n",
        "all_data['cluster'] = kmeans.fit_predict(scaled_coordinates)\n",
        "\n",
        "# Get cluster centers\n",
        "cluster_centers = scaler.inverse_transform(kmeans.cluster_centers_)\n",
        "cluster_info = pd.DataFrame(\n",
        "    cluster_centers,\n",
        "    columns=['center_latitude', 'center_longitude']\n",
        ")\n",
        "cluster_info['cluster'] = cluster_info.index\n",
        "cluster_info['count'] = all_data.groupby('cluster').size().values\n",
        "\n",
        "print(\"\\nCluster information:\")\n",
        "print(cluster_info)\n",
        "\n",
        "# Create a GeoDataFrame for visualization\n",
        "geometry = [Point(xy) for xy in zip(all_data['longitude'], all_data['latitude'])]\n",
        "gdf = gpd.GeoDataFrame(all_data, geometry=geometry, crs=\"EPSG:4326\")\n",
        "\n",
        "# Convert to web mercator for basemap\n",
        "gdf_web = gdf.to_crs(epsg=3857)\n",
        "\n",
        "# Create cluster centers GeoDataFrame\n",
        "center_geometry = [Point(xy) for xy in zip(cluster_info['center_longitude'], cluster_info['center_latitude'])]\n",
        "center_gdf = gpd.GeoDataFrame(cluster_info, geometry=center_geometry, crs=\"EPSG:4326\")\n",
        "center_gdf_web = center_gdf.to_crs(epsg=3857)\n",
        "\n",
        "# Visualize the clusters\n",
        "fig, ax = plt.subplots(figsize=(15, 12))\n",
        "\n",
        "# Plot points colored by cluster\n",
        "gdf_web.plot(\n",
        "    column='cluster',\n",
        "    ax=ax,\n",
        "    alpha=0.6,\n",
        "    markersize=5,\n",
        "    categorical=True,\n",
        "    legend=True,\n",
        "    legend_kwds={'title': 'Clusters'}\n",
        ")\n",
        "\n",
        "# Plot cluster centers\n",
        "center_gdf_web.plot(\n",
        "    ax=ax,\n",
        "    markersize=100,\n",
        "    marker='*',\n",
        "    color='red',\n",
        "    edgecolor='black',\n",
        "    label='Cluster Centers'\n",
        ")\n",
        "\n",
        "# Add basemap\n",
        "ctx.add_basemap(ax, crs=gdf_web.crs.to_string(), source=ctx.providers.CartoDB.Positron)\n",
        "\n",
        "# Add title and legend\n",
        "plt.title('Spatial Clusters of 311 Reports (K-means)', fontsize=16)\n",
        "plt.legend(loc='upper right')\n",
        "plt.tight_layout()\n",
        "plt.savefig('kmeans_clusters.png')\n",
        "plt.close()\n",
        "\n",
        "# Analyze cluster characteristics\n",
        "print(\"\\nAnalyzing cluster characteristics...\")\n",
        "cluster_analysis = all_data.groupby('cluster').agg({\n",
        "    'latitude': ['mean', 'std'],\n",
        "    'longitude': ['mean', 'std'],\n",
        "    'Year': ['min', 'max', 'mean'],\n",
        "    'subject': lambda x: x.value_counts().index[0] if len(x) > 0 else None,\n",
        "    'case_title': lambda x: x.value_counts().index[0] if len(x) > 0 else None\n",
        "}).reset_index()\n",
        "\n",
        "print(\"\\nCluster characteristics:\")\n",
        "print(cluster_analysis)\n",
        "\n",
        "# Create a heatmap for each cluster\n",
        "fig, axes = plt.subplots(1, optimal_k, figsize=(20, 6))\n",
        "if optimal_k == 1:\n",
        "    axes = [axes]  # Make axes iterable if only one cluster\n",
        "\n",
        "for i in range(optimal_k):\n",
        "    cluster_data = gdf_web[gdf_web['cluster'] == i]\n",
        "\n",
        "    if len(cluster_data) > 0:\n",
        "        ax = axes[i]\n",
        "        # Create heatmap\n",
        "        heatmap = ax.hexbin(\n",
        "            cluster_data.geometry.x,\n",
        "            cluster_data.geometry.y,\n",
        "            gridsize=50,\n",
        "            cmap='hot_r',\n",
        "            alpha=0.7,\n",
        "            mincnt=1\n",
        "        )\n",
        "\n",
        "        # Add basemap\n",
        "        ctx.add_basemap(ax, crs=cluster_data.crs.to_string(), source=ctx.providers.CartoDB.Positron)\n",
        "\n",
        "        # Add title\n",
        "        ax.set_title(f'Cluster {i} (n={len(cluster_data)})')\n",
        "\n",
        "        # Add colorbar\n",
        "        plt.colorbar(heatmap, ax=ax, label='Density')\n",
        "    else:\n",
        "        axes[i].text(0.5, 0.5, f'No data for Cluster {i}',\n",
        "                     horizontalalignment='center', verticalalignment='center')\n",
        "        axes[i].set_axis_off()\n",
        "\n",
        "plt.suptitle('Density Heatmaps by Cluster', fontsize=16)\n",
        "plt.tight_layout()\n",
        "plt.savefig('cluster_heatmaps.png')\n",
        "plt.close()\n",
        "\n",
        "# Temporal analysis of clusters\n",
        "plt.figure(figsize=(12, 8))\n",
        "for i in range(optimal_k):\n",
        "    cluster_data = all_data[all_data['cluster'] == i]\n",
        "    yearly_counts = cluster_data.groupby('Year').size()\n",
        "    plt.plot(yearly_counts.index, yearly_counts.values, marker='o', linewidth=2, label=f'Cluster {i}')\n",
        "\n",
        "plt.title('Yearly Distribution by Cluster')\n",
        "plt.xlabel('Year')\n",
        "plt.ylabel('Number of Reports')\n",
        "plt.legend()\n",
        "plt.grid(True)\n",
        "plt.tight_layout()\n",
        "plt.savefig('cluster_yearly_distribution.png')\n",
        "plt.close()\n",
        "\n",
        "print(\"\\nClustering analysis complete. Output files saved.\")\n"
      ]
    },
    {
      "cell_type": "code",
      "execution_count": null,
      "metadata": {
        "id": "NcBzeM601L2S"
      },
      "outputs": [],
      "source": []
    }
  ],
  "metadata": {
    "accelerator": "GPU",
    "colab": {
      "gpuType": "T4",
      "provenance": []
    },
    "kernelspec": {
      "display_name": "Python 3",
      "name": "python3"
    },
    "language_info": {
      "name": "python"
    }
  },
  "nbformat": 4,
  "nbformat_minor": 0
}