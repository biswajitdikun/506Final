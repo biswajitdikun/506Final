{
  "cells": [
    {
      "cell_type": "code",
      "execution_count": 1,
      "metadata": {
        "colab": {
          "base_uri": "https://localhost:8080/"
        },
        "id": "HBXjj6l6desS",
        "outputId": "6533cd17-31c2-4f03-a6be-d0c7468f80b6"
      },
      "outputs": [
        {
          "name": "stdout",
          "output_type": "stream",
          "text": [
            "Collecting contextily\n",
            "  Downloading contextily-1.6.2-py3-none-any.whl.metadata (2.9 kB)\n",
            "Requirement already satisfied: geopy in /usr/local/lib/python3.11/dist-packages (from contextily) (2.4.1)\n",
            "Requirement already satisfied: matplotlib in /usr/local/lib/python3.11/dist-packages (from contextily) (3.10.0)\n",
            "Collecting mercantile (from contextily)\n",
            "  Downloading mercantile-1.2.1-py3-none-any.whl.metadata (4.8 kB)\n",
            "Requirement already satisfied: pillow in /usr/local/lib/python3.11/dist-packages (from contextily) (11.2.1)\n",
            "Collecting rasterio (from contextily)\n",
            "  Downloading rasterio-1.4.3-cp311-cp311-manylinux_2_17_x86_64.manylinux2014_x86_64.whl.metadata (9.1 kB)\n",
            "Requirement already satisfied: requests in /usr/local/lib/python3.11/dist-packages (from contextily) (2.32.3)\n",
            "Requirement already satisfied: joblib in /usr/local/lib/python3.11/dist-packages (from contextily) (1.4.2)\n",
            "Requirement already satisfied: xyzservices in /usr/local/lib/python3.11/dist-packages (from contextily) (2025.4.0)\n",
            "Requirement already satisfied: geographiclib<3,>=1.52 in /usr/local/lib/python3.11/dist-packages (from geopy->contextily) (2.0)\n",
            "Requirement already satisfied: contourpy>=1.0.1 in /usr/local/lib/python3.11/dist-packages (from matplotlib->contextily) (1.3.2)\n",
            "Requirement already satisfied: cycler>=0.10 in /usr/local/lib/python3.11/dist-packages (from matplotlib->contextily) (0.12.1)\n",
            "Requirement already satisfied: fonttools>=4.22.0 in /usr/local/lib/python3.11/dist-packages (from matplotlib->contextily) (4.57.0)\n",
            "Requirement already satisfied: kiwisolver>=1.3.1 in /usr/local/lib/python3.11/dist-packages (from matplotlib->contextily) (1.4.8)\n",
            "Requirement already satisfied: numpy>=1.23 in /usr/local/lib/python3.11/dist-packages (from matplotlib->contextily) (2.0.2)\n",
            "Requirement already satisfied: packaging>=20.0 in /usr/local/lib/python3.11/dist-packages (from matplotlib->contextily) (24.2)\n",
            "Requirement already satisfied: pyparsing>=2.3.1 in /usr/local/lib/python3.11/dist-packages (from matplotlib->contextily) (3.2.3)\n",
            "Requirement already satisfied: python-dateutil>=2.7 in /usr/local/lib/python3.11/dist-packages (from matplotlib->contextily) (2.9.0.post0)\n",
            "Requirement already satisfied: click>=3.0 in /usr/local/lib/python3.11/dist-packages (from mercantile->contextily) (8.1.8)\n",
            "Collecting affine (from rasterio->contextily)\n",
            "  Downloading affine-2.4.0-py3-none-any.whl.metadata (4.0 kB)\n",
            "Requirement already satisfied: attrs in /usr/local/lib/python3.11/dist-packages (from rasterio->contextily) (25.3.0)\n",
            "Requirement already satisfied: certifi in /usr/local/lib/python3.11/dist-packages (from rasterio->contextily) (2025.4.26)\n",
            "Collecting cligj>=0.5 (from rasterio->contextily)\n",
            "  Downloading cligj-0.7.2-py3-none-any.whl.metadata (5.0 kB)\n",
            "Collecting click-plugins (from rasterio->contextily)\n",
            "  Downloading click_plugins-1.1.1-py2.py3-none-any.whl.metadata (6.4 kB)\n",
            "Requirement already satisfied: charset-normalizer<4,>=2 in /usr/local/lib/python3.11/dist-packages (from requests->contextily) (3.4.1)\n",
            "Requirement already satisfied: idna<4,>=2.5 in /usr/local/lib/python3.11/dist-packages (from requests->contextily) (3.10)\n",
            "Requirement already satisfied: urllib3<3,>=1.21.1 in /usr/local/lib/python3.11/dist-packages (from requests->contextily) (2.4.0)\n",
            "Requirement already satisfied: six>=1.5 in /usr/local/lib/python3.11/dist-packages (from python-dateutil>=2.7->matplotlib->contextily) (1.17.0)\n",
            "Downloading contextily-1.6.2-py3-none-any.whl (17 kB)\n",
            "Downloading mercantile-1.2.1-py3-none-any.whl (14 kB)\n",
            "Downloading rasterio-1.4.3-cp311-cp311-manylinux_2_17_x86_64.manylinux2014_x86_64.whl (22.2 MB)\n",
            "\u001b[2K   \u001b[90m━━━━━━━━━━━━━━━━━━━━━━━━━━━━━━━━━━━━━━━━\u001b[0m \u001b[32m22.2/22.2 MB\u001b[0m \u001b[31m26.5 MB/s\u001b[0m eta \u001b[36m0:00:00\u001b[0m\n",
            "\u001b[?25hDownloading cligj-0.7.2-py3-none-any.whl (7.1 kB)\n",
            "Downloading affine-2.4.0-py3-none-any.whl (15 kB)\n",
            "Downloading click_plugins-1.1.1-py2.py3-none-any.whl (7.5 kB)\n",
            "Installing collected packages: mercantile, cligj, click-plugins, affine, rasterio, contextily\n",
            "Successfully installed affine-2.4.0 click-plugins-1.1.1 cligj-0.7.2 contextily-1.6.2 mercantile-1.2.1 rasterio-1.4.3\n",
            "Requirement already satisfied: geopandas in /usr/local/lib/python3.11/dist-packages (1.0.1)\n",
            "Requirement already satisfied: numpy>=1.22 in /usr/local/lib/python3.11/dist-packages (from geopandas) (2.0.2)\n",
            "Requirement already satisfied: pyogrio>=0.7.2 in /usr/local/lib/python3.11/dist-packages (from geopandas) (0.10.0)\n",
            "Requirement already satisfied: packaging in /usr/local/lib/python3.11/dist-packages (from geopandas) (24.2)\n",
            "Requirement already satisfied: pandas>=1.4.0 in /usr/local/lib/python3.11/dist-packages (from geopandas) (2.2.2)\n",
            "Requirement already satisfied: pyproj>=3.3.0 in /usr/local/lib/python3.11/dist-packages (from geopandas) (3.7.1)\n",
            "Requirement already satisfied: shapely>=2.0.0 in /usr/local/lib/python3.11/dist-packages (from geopandas) (2.1.0)\n",
            "Requirement already satisfied: python-dateutil>=2.8.2 in /usr/local/lib/python3.11/dist-packages (from pandas>=1.4.0->geopandas) (2.9.0.post0)\n",
            "Requirement already satisfied: pytz>=2020.1 in /usr/local/lib/python3.11/dist-packages (from pandas>=1.4.0->geopandas) (2025.2)\n",
            "Requirement already satisfied: tzdata>=2022.7 in /usr/local/lib/python3.11/dist-packages (from pandas>=1.4.0->geopandas) (2025.2)\n",
            "Requirement already satisfied: certifi in /usr/local/lib/python3.11/dist-packages (from pyogrio>=0.7.2->geopandas) (2025.4.26)\n",
            "Requirement already satisfied: six>=1.5 in /usr/local/lib/python3.11/dist-packages (from python-dateutil>=2.8.2->pandas>=1.4.0->geopandas) (1.17.0)\n",
            "Requirement already satisfied: shapely in /usr/local/lib/python3.11/dist-packages (2.1.0)\n",
            "Requirement already satisfied: numpy>=1.21 in /usr/local/lib/python3.11/dist-packages (from shapely) (2.0.2)\n"
          ]
        }
      ],
      "source": [
        "!pip install contextily\n",
        "!pip install geopandas\n",
        "!pip install shapely"
      ]
    },
    {
      "cell_type": "code",
      "execution_count": 2,
      "metadata": {
        "id": "ujNCIn-md8zN"
      },
      "outputs": [],
      "source": [
        "import pandas as pd\n",
        "import numpy as np\n",
        "import matplotlib.pyplot as plt\n",
        "import seaborn as sns\n",
        "import contextily as ctx\n",
        "import geopandas as gpd\n",
        "from shapely.geometry import Point\n",
        "from sklearn.preprocessing import StandardScaler\n",
        "from sklearn.cluster import KMeans\n",
        "from sklearn.linear_model import LogisticRegression\n",
        "from sklearn.metrics import classification_report\n",
        "from prophet import Prophet"
      ]
    },
    {
      "cell_type": "code",
      "execution_count": 3,
      "metadata": {
        "colab": {
          "base_uri": "https://localhost:8080/"
        },
        "id": "tbuBfyA-d_7z",
        "outputId": "08ae9191-cce9-457c-a201-d012f7b034a4"
      },
      "outputs": [
        {
          "name": "stdout",
          "output_type": "stream",
          "text": [
            "\n",
            "Loading data for 2020...\n"
          ]
        },
        {
          "name": "stderr",
          "output_type": "stream",
          "text": [
            "<ipython-input-3-5007da004253>:15: DtypeWarning: Columns (13) have mixed types. Specify dtype option on import or set low_memory=False.\n",
            "  data = pd.read_csv(file_path)\n"
          ]
        },
        {
          "name": "stdout",
          "output_type": "stream",
          "text": [
            "Animal complaints in 2020: 1142\n",
            "\n",
            "Loading data for 2021...\n"
          ]
        },
        {
          "name": "stderr",
          "output_type": "stream",
          "text": [
            "<ipython-input-3-5007da004253>:15: DtypeWarning: Columns (13) have mixed types. Specify dtype option on import or set low_memory=False.\n",
            "  data = pd.read_csv(file_path)\n"
          ]
        },
        {
          "name": "stdout",
          "output_type": "stream",
          "text": [
            "Animal complaints in 2021: 991\n",
            "\n",
            "Loading data for 2022...\n"
          ]
        },
        {
          "name": "stderr",
          "output_type": "stream",
          "text": [
            "<ipython-input-3-5007da004253>:15: DtypeWarning: Columns (13) have mixed types. Specify dtype option on import or set low_memory=False.\n",
            "  data = pd.read_csv(file_path)\n"
          ]
        },
        {
          "name": "stdout",
          "output_type": "stream",
          "text": [
            "Animal complaints in 2022: 838\n",
            "\n",
            "Loading data for 2023...\n",
            "Animal complaints in 2023: 1277\n",
            "\n",
            "Loading data for 2024...\n",
            "Animal complaints in 2024: 1245\n"
          ]
        }
      ],
      "source": [
        "file_paths = {\n",
        "    2020: '311_2020.csv',\n",
        "    2021: '311_2021.csv',\n",
        "    2022: '311_2022.csv',\n",
        "    2023: '311_2023.csv',\n",
        "    2024: '311_2024.csv'\n",
        "}\n",
        "\n",
        "# --- Load and filter data ---\n",
        "all_animal_complaints = pd.DataFrame()\n",
        "\n",
        "for year, file_path in file_paths.items():\n",
        "    print(f\"\\nLoading data for {year}...\")\n",
        "    try:\n",
        "        data = pd.read_csv(file_path)\n",
        "        # Filter for Animal Control complaints\n",
        "        animal_complaints = data[data['subject'] == 'Animal Control'].copy()\n",
        "        animal_complaints['Year'] = pd.to_datetime(animal_complaints['open_dt']).dt.year\n",
        "        animal_complaints['Month'] = pd.to_datetime(animal_complaints['open_dt']).dt.month\n",
        "        animal_complaints['year'] = year  # for consistency\n",
        "\n",
        "        all_animal_complaints = pd.concat([all_animal_complaints, animal_complaints], ignore_index=True)\n",
        "        print(f\"Animal complaints in {year}: {len(animal_complaints)}\")\n",
        "    except Exception as e:\n",
        "        print(f\"Error processing file for {year}: {e}\")\n",
        "\n",
        "if all_animal_complaints.empty:\n",
        "    print(\"No animal complaint data found. Exiting.\")\n",
        "    exit()"
      ]
    },
    {
      "cell_type": "code",
      "execution_count": null,
      "metadata": {
        "colab": {
          "base_uri": "https://localhost:8080/"
        },
        "id": "RKypidKreKBr",
        "outputId": "6cebf9ef-df8c-4b43-dfb5-229549879ac7"
      },
      "outputs": [
        {
          "name": "stdout",
          "output_type": "stream",
          "text": [
            "Requirement already satisfied: prophet in /usr/local/lib/python3.11/dist-packages (1.1.6)\n",
            "Requirement already satisfied: cmdstanpy>=1.0.4 in /usr/local/lib/python3.11/dist-packages (from prophet) (1.2.5)\n",
            "Requirement already satisfied: numpy>=1.15.4 in /usr/local/lib/python3.11/dist-packages (from prophet) (2.0.2)\n",
            "Requirement already satisfied: matplotlib>=2.0.0 in /usr/local/lib/python3.11/dist-packages (from prophet) (3.10.0)\n",
            "Requirement already satisfied: pandas>=1.0.4 in /usr/local/lib/python3.11/dist-packages (from prophet) (2.2.2)\n",
            "Requirement already satisfied: holidays<1,>=0.25 in /usr/local/lib/python3.11/dist-packages (from prophet) (0.71)\n",
            "Requirement already satisfied: tqdm>=4.36.1 in /usr/local/lib/python3.11/dist-packages (from prophet) (4.67.1)\n",
            "Requirement already satisfied: importlib-resources in /usr/local/lib/python3.11/dist-packages (from prophet) (6.5.2)\n",
            "Requirement already satisfied: stanio<2.0.0,>=0.4.0 in /usr/local/lib/python3.11/dist-packages (from cmdstanpy>=1.0.4->prophet) (0.5.1)\n",
            "Requirement already satisfied: python-dateutil in /usr/local/lib/python3.11/dist-packages (from holidays<1,>=0.25->prophet) (2.9.0.post0)\n",
            "Requirement already satisfied: contourpy>=1.0.1 in /usr/local/lib/python3.11/dist-packages (from matplotlib>=2.0.0->prophet) (1.3.2)\n",
            "Requirement already satisfied: cycler>=0.10 in /usr/local/lib/python3.11/dist-packages (from matplotlib>=2.0.0->prophet) (0.12.1)\n",
            "Requirement already satisfied: fonttools>=4.22.0 in /usr/local/lib/python3.11/dist-packages (from matplotlib>=2.0.0->prophet) (4.57.0)\n",
            "Requirement already satisfied: kiwisolver>=1.3.1 in /usr/local/lib/python3.11/dist-packages (from matplotlib>=2.0.0->prophet) (1.4.8)\n",
            "Requirement already satisfied: packaging>=20.0 in /usr/local/lib/python3.11/dist-packages (from matplotlib>=2.0.0->prophet) (24.2)\n",
            "Requirement already satisfied: pillow>=8 in /usr/local/lib/python3.11/dist-packages (from matplotlib>=2.0.0->prophet) (11.2.1)\n",
            "Requirement already satisfied: pyparsing>=2.3.1 in /usr/local/lib/python3.11/dist-packages (from matplotlib>=2.0.0->prophet) (3.2.3)\n",
            "Requirement already satisfied: pytz>=2020.1 in /usr/local/lib/python3.11/dist-packages (from pandas>=1.0.4->prophet) (2025.2)\n",
            "Requirement already satisfied: tzdata>=2022.7 in /usr/local/lib/python3.11/dist-packages (from pandas>=1.0.4->prophet) (2025.2)\n",
            "Requirement already satisfied: six>=1.5 in /usr/local/lib/python3.11/dist-packages (from python-dateutil->holidays<1,>=0.25->prophet) (1.17.0)\n"
          ]
        }
      ],
      "source": [
        "%pip install prophet"
      ]
    },
    {
      "cell_type": "code",
      "execution_count": null,
      "metadata": {
        "id": "8UviMJpaf_Cp"
      },
      "outputs": [],
      "source": [
        "# --- Drop rows with missing coordinates ---\n",
        "all_animal_complaints = all_animal_complaints.dropna(subset=['latitude', 'longitude'])"
      ]
    },
    {
      "cell_type": "code",
      "execution_count": null,
      "metadata": {
        "id": "-bhtxf-hfri8"
      },
      "outputs": [],
      "source": [
        "# --- KMeans clustering for spatial hotspots ---\n",
        "coordinates = all_animal_complaints[['latitude', 'longitude']].values\n",
        "scaler = StandardScaler()\n",
        "scaled_coordinates = scaler.fit_transform(coordinates)\n",
        "\n",
        "optimal_k = 5\n",
        "kmeans = KMeans(n_clusters=optimal_k, random_state=42, n_init=10)\n",
        "all_animal_complaints['cluster'] = kmeans.fit_predict(scaled_coordinates)"
      ]
    },
    {
      "cell_type": "code",
      "execution_count": null,
      "metadata": {
        "colab": {
          "base_uri": "https://localhost:8080/"
        },
        "id": "O-8zVgnUfuJl",
        "outputId": "c3de929d-15e4-44b1-d749-909621d80374"
      },
      "outputs": [
        {
          "name": "stderr",
          "output_type": "stream",
          "text": [
            "INFO:prophet:Disabling weekly seasonality. Run prophet with weekly_seasonality=True to override this.\n",
            "INFO:prophet:Disabling daily seasonality. Run prophet with daily_seasonality=True to override this.\n",
            "INFO:prophet:n_changepoints greater than number of observations. Using 3.\n",
            "DEBUG:cmdstanpy:input tempfile: /tmp/tmpmfbcgsfp/xfki4cs_.json\n",
            "DEBUG:cmdstanpy:input tempfile: /tmp/tmpmfbcgsfp/r5g8xus8.json\n",
            "DEBUG:cmdstanpy:idx 0\n",
            "DEBUG:cmdstanpy:running CmdStan, num_threads: None\n",
            "DEBUG:cmdstanpy:CmdStan args: ['/usr/local/lib/python3.11/dist-packages/prophet/stan_model/prophet_model.bin', 'random', 'seed=4758', 'data', 'file=/tmp/tmpmfbcgsfp/xfki4cs_.json', 'init=/tmp/tmpmfbcgsfp/r5g8xus8.json', 'output', 'file=/tmp/tmpmfbcgsfp/prophet_model626fztz5/prophet_model-20250430225429.csv', 'method=optimize', 'algorithm=newton', 'iter=10000']\n",
            "22:54:29 - cmdstanpy - INFO - Chain [1] start processing\n",
            "INFO:cmdstanpy:Chain [1] start processing\n",
            "22:54:30 - cmdstanpy - INFO - Chain [1] done processing\n",
            "INFO:cmdstanpy:Chain [1] done processing\n"
          ]
        }
      ],
      "source": [
        "# --- Hotspot definition by complaint growth ---\n",
        "past_years = [2020, 2021, 2022]\n",
        "future_years = [2023, 2024]\n",
        "\n",
        "cluster_year_counts = all_animal_complaints.groupby(['cluster', 'Year']).size().reset_index(name='count')\n",
        "counts_pivot = cluster_year_counts.pivot(index='cluster', columns='Year', values='count').fillna(0)\n",
        "counts_pivot['past_total'] = counts_pivot[past_years].sum(axis=1)\n",
        "counts_pivot['future_total'] = counts_pivot[future_years].sum(axis=1)\n",
        "counts_pivot['growth'] = counts_pivot['future_total'] - counts_pivot['past_total']"
      ]
    },
    {
      "cell_type": "code",
      "execution_count": null,
      "metadata": {
        "colab": {
          "base_uri": "https://localhost:8080/"
        },
        "id": "6dgYBiNKjgtR",
        "outputId": "15ece7d4-984c-4bf2-dc71-6fd718b8541a"
      },
      "outputs": [
        {
          "name": "stderr",
          "output_type": "stream",
          "text": [
            "INFO:prophet:Disabling weekly seasonality. Run prophet with weekly_seasonality=True to override this.\n",
            "INFO:prophet:Disabling daily seasonality. Run prophet with daily_seasonality=True to override this.\n",
            "INFO:prophet:n_changepoints greater than number of observations. Using 3.\n",
            "DEBUG:cmdstanpy:input tempfile: /tmp/tmpmfbcgsfp/v3633p3t.json\n",
            "DEBUG:cmdstanpy:input tempfile: /tmp/tmpmfbcgsfp/so3_76it.json\n",
            "DEBUG:cmdstanpy:idx 0\n",
            "DEBUG:cmdstanpy:running CmdStan, num_threads: None\n",
            "DEBUG:cmdstanpy:CmdStan args: ['/usr/local/lib/python3.11/dist-packages/prophet/stan_model/prophet_model.bin', 'random', 'seed=78867', 'data', 'file=/tmp/tmpmfbcgsfp/v3633p3t.json', 'init=/tmp/tmpmfbcgsfp/so3_76it.json', 'output', 'file=/tmp/tmpmfbcgsfp/prophet_modelun5df9yw/prophet_model-20250430225442.csv', 'method=optimize', 'algorithm=newton', 'iter=10000']\n",
            "22:54:42 - cmdstanpy - INFO - Chain [1] start processing\n",
            "INFO:cmdstanpy:Chain [1] start processing\n",
            "22:54:42 - cmdstanpy - INFO - Chain [1] done processing\n",
            "INFO:cmdstanpy:Chain [1] done processing\n",
            "INFO:prophet:Disabling weekly seasonality. Run prophet with weekly_seasonality=True to override this.\n",
            "INFO:prophet:Disabling daily seasonality. Run prophet with daily_seasonality=True to override this.\n",
            "INFO:prophet:n_changepoints greater than number of observations. Using 3.\n",
            "DEBUG:cmdstanpy:input tempfile: /tmp/tmpmfbcgsfp/eeokr2w4.json\n",
            "DEBUG:cmdstanpy:input tempfile: /tmp/tmpmfbcgsfp/lysaa_9x.json\n",
            "DEBUG:cmdstanpy:idx 0\n",
            "DEBUG:cmdstanpy:running CmdStan, num_threads: None\n",
            "DEBUG:cmdstanpy:CmdStan args: ['/usr/local/lib/python3.11/dist-packages/prophet/stan_model/prophet_model.bin', 'random', 'seed=47483', 'data', 'file=/tmp/tmpmfbcgsfp/eeokr2w4.json', 'init=/tmp/tmpmfbcgsfp/lysaa_9x.json', 'output', 'file=/tmp/tmpmfbcgsfp/prophet_model0opjidjo/prophet_model-20250430225444.csv', 'method=optimize', 'algorithm=newton', 'iter=10000']\n",
            "22:54:44 - cmdstanpy - INFO - Chain [1] start processing\n",
            "INFO:cmdstanpy:Chain [1] start processing\n",
            "22:54:44 - cmdstanpy - INFO - Chain [1] done processing\n",
            "INFO:cmdstanpy:Chain [1] done processing\n",
            "INFO:prophet:Disabling weekly seasonality. Run prophet with weekly_seasonality=True to override this.\n",
            "INFO:prophet:Disabling daily seasonality. Run prophet with daily_seasonality=True to override this.\n",
            "INFO:prophet:n_changepoints greater than number of observations. Using 3.\n",
            "DEBUG:cmdstanpy:input tempfile: /tmp/tmpmfbcgsfp/_5end7vg.json\n",
            "DEBUG:cmdstanpy:input tempfile: /tmp/tmpmfbcgsfp/xctl4m6g.json\n",
            "DEBUG:cmdstanpy:idx 0\n",
            "DEBUG:cmdstanpy:running CmdStan, num_threads: None\n",
            "DEBUG:cmdstanpy:CmdStan args: ['/usr/local/lib/python3.11/dist-packages/prophet/stan_model/prophet_model.bin', 'random', 'seed=3272', 'data', 'file=/tmp/tmpmfbcgsfp/_5end7vg.json', 'init=/tmp/tmpmfbcgsfp/xctl4m6g.json', 'output', 'file=/tmp/tmpmfbcgsfp/prophet_modelqzotj84h/prophet_model-20250430225445.csv', 'method=optimize', 'algorithm=newton', 'iter=10000']\n",
            "22:54:45 - cmdstanpy - INFO - Chain [1] start processing\n",
            "INFO:cmdstanpy:Chain [1] start processing\n",
            "22:54:45 - cmdstanpy - INFO - Chain [1] done processing\n",
            "INFO:cmdstanpy:Chain [1] done processing\n",
            "INFO:prophet:Disabling weekly seasonality. Run prophet with weekly_seasonality=True to override this.\n",
            "INFO:prophet:Disabling daily seasonality. Run prophet with daily_seasonality=True to override this.\n",
            "INFO:prophet:n_changepoints greater than number of observations. Using 3.\n",
            "DEBUG:cmdstanpy:input tempfile: /tmp/tmpmfbcgsfp/_llh0_6d.json\n",
            "DEBUG:cmdstanpy:input tempfile: /tmp/tmpmfbcgsfp/94oj3tiu.json\n",
            "DEBUG:cmdstanpy:idx 0\n",
            "DEBUG:cmdstanpy:running CmdStan, num_threads: None\n",
            "DEBUG:cmdstanpy:CmdStan args: ['/usr/local/lib/python3.11/dist-packages/prophet/stan_model/prophet_model.bin', 'random', 'seed=41880', 'data', 'file=/tmp/tmpmfbcgsfp/_llh0_6d.json', 'init=/tmp/tmpmfbcgsfp/94oj3tiu.json', 'output', 'file=/tmp/tmpmfbcgsfp/prophet_modeleke2r8fx/prophet_model-20250430225446.csv', 'method=optimize', 'algorithm=newton', 'iter=10000']\n",
            "22:54:46 - cmdstanpy - INFO - Chain [1] start processing\n",
            "INFO:cmdstanpy:Chain [1] start processing\n",
            "22:54:46 - cmdstanpy - INFO - Chain [1] done processing\n",
            "INFO:cmdstanpy:Chain [1] done processing\n"
          ]
        }
      ],
      "source": [
        "\n",
        "# Label as hotspot: top 1 cluster by growth\n",
        "hot_clusters = counts_pivot.sort_values('growth', ascending=False).head(1).index.tolist()\n",
        "all_animal_complaints['is_hotspot'] = all_animal_complaints['cluster'].isin(hot_clusters).astype(int)"
      ]
    },
    {
      "cell_type": "code",
      "execution_count": null,
      "metadata": {
        "id": "k6Bdrs_D6NT2"
      },
      "outputs": [],
      "source": [
        "# --- Prepare ML data (leakage-free) ---\n",
        "train_data = all_animal_complaints[all_animal_complaints['Year'].isin(past_years)]\n",
        "test_data = all_animal_complaints[all_animal_complaints['Year'].isin(future_years)]\n",
        "\n",
        "features = ['latitude', 'longitude', 'Year']\n",
        "X_train = train_data[features]\n",
        "y_train = train_data['is_hotspot']\n",
        "X_test = test_data[features]\n",
        "y_test = test_data['is_hotspot']"
      ]
    },
    {
      "cell_type": "code",
      "execution_count": null,
      "metadata": {
        "id": "k_krtF_N6Pr3"
      },
      "outputs": [],
      "source": [
        "\n",
        "# --- Logistic Regression for hotspot prediction ---\n",
        "lr = LogisticRegression(max_iter=200, random_state=42)\n",
        "lr.fit(X_train, y_train)\n",
        "y_pred = lr.predict(X_test)\n",
        "\n",
        "print(\"\\nClassification Report on Future-Year Hotspot Prediction (Logistic Regression):\")\n",
        "print(classification_report(y_test, y_pred))"
      ]
    },
    {
      "cell_type": "code",
      "execution_count": null,
      "metadata": {
        "colab": {
          "base_uri": "https://localhost:8080/"
        },
        "id": "hm_QTIyB6V_2",
        "outputId": "c18699e6-26e7-4bda-a22c-a1ea7ffd4cbf"
      },
      "outputs": [
        {
          "name": "stdout",
          "output_type": "stream",
          "text": [
            "\n",
            "Classification Report on Future-Year Hotspot Prediction:\n",
            "              precision    recall  f1-score   support\n",
            "\n",
            "           0       1.00      1.00      1.00    544987\n",
            "\n",
            "    accuracy                           1.00    544987\n",
            "   macro avg       1.00      1.00      1.00    544987\n",
            "weighted avg       1.00      1.00      1.00    544987\n",
            "\n"
          ]
        }
      ],
      "source": [
        "# --- Seasonal analysis: volume by month ---\n",
        "monthly_counts = all_animal_complaints.groupby('Month').size()\n",
        "plt.figure(figsize=(10, 6))\n",
        "monthly_counts.plot(kind='line', marker='o')\n",
        "plt.title('Seasonal Trends in Animal Complaints (2020-2024)')\n",
        "plt.xlabel('Month')\n",
        "plt.ylabel('Number of Complaints')\n",
        "plt.xticks(range(1, 13), ['Jan', 'Feb', 'Mar', 'Apr', 'May', 'Jun', 'Jul', 'Aug', 'Sep', 'Oct', 'Nov', 'Dec'])\n",
        "plt.grid(True)\n",
        "plt.tight_layout()\n",
        "plt.savefig('seasonal_trends_animal.png')\n",
        "plt.close()"
      ]
    },
    {
      "cell_type": "code",
      "execution_count": null,
      "metadata": {
        "id": "GuZeaZQu6YYq"
      },
      "outputs": [],
      "source": [
        "# --- Time series forecasting of animal complaint volume by season ---\n",
        "monthly_totals = all_animal_complaints.groupby(['Year', 'Month']).size().reset_index(name='y')\n",
        "monthly_totals['ds'] = pd.to_datetime(monthly_totals['Year'].astype(str) + '-' + monthly_totals['Month'].astype(str) + '-01')\n",
        "\n",
        "model = Prophet(yearly_seasonality=True, seasonality_mode='multiplicative')\n",
        "model.fit(monthly_totals[['ds', 'y']])\n",
        "future = model.make_future_dataframe(periods=12, freq='M')\n",
        "forecast = model.predict(future)\n",
        "\n",
        "fig = model.plot(forecast)\n",
        "plt.title('Forecast of Monthly Animal Complaint Volume')\n",
        "plt.savefig('forecast_animal_complaints.png')\n",
        "plt.close()"
      ]
    },
    {
      "cell_type": "code",
      "execution_count": null,
      "metadata": {
        "colab": {
          "base_uri": "https://localhost:8080/"
        },
        "id": "DO-yQT5V6rpi",
        "outputId": "2e34b4f0-ab60-4937-d264-723f2681705e"
      },
      "outputs": [
        {
          "name": "stdout",
          "output_type": "stream",
          "text": [
            "Train hotspots: 4\n",
            "Test hotspots: 0\n"
          ]
        }
      ],
      "source": [
        "print(\"Train hotspots:\", y_train.sum())\n",
        "print(\"Test hotspots:\", y_test.sum())\n"
      ]
    },
    {
      "cell_type": "code",
      "execution_count": null,
      "metadata": {
        "id": "0bLa4Qc07LNb"
      },
      "outputs": [],
      "source": []
    }
  ],
  "metadata": {
    "colab": {
      "provenance": []
    },
    "kernelspec": {
      "display_name": "Python 3",
      "name": "python3"
    },
    "language_info": {
      "name": "python"
    }
  },
  "nbformat": 4,
  "nbformat_minor": 0
}
